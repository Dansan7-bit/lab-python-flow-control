{
 "cells": [
  {
   "cell_type": "markdown",
   "id": "d3bfc191-8885-42ee-b0a0-bbab867c6f9f",
   "metadata": {
    "tags": []
   },
   "source": [
    "# Lab | Flow Control"
   ]
  },
  {
   "cell_type": "markdown",
   "id": "3851fcd1-cf98-4653-9c89-e003b7ec9400",
   "metadata": {},
   "source": [
    "## Exercise: Managing Customer Orders Optimized\n",
    "\n",
    "In the last lab, you were starting an online store that sells various products. To ensure smooth operations, you developed a program that manages customer orders and inventory.\n",
    "\n",
    "You did so without using flow control. Let's go a step further and improve this code.\n",
    "\n",
    "Follow the steps below to complete the exercise:\n",
    "\n",
    "1. Look at your code from the lab data structures, and improve repeated code with loops.\n",
    "\n",
    "2. Instead of asking the user to input the name of three products that a customer wants to order, do the following:\n",
    "    \n",
    "    a. Prompt the user to enter the name of a product that a customer wants to order.\n",
    "    \n",
    "    b. Add the product name to the \"customer_orders\" set.\n",
    "    \n",
    "    c. Ask the user if they want to add another product (yes/no).\n",
    "    \n",
    "    d. Continue the loop until the user does not want to add another product.\n",
    "\n",
    "3. Instead of updating the inventory by subtracting 1 from the quantity of each product, only do it for  the products that were ordered (those in \"customer_orders\")."
   ]
  },
  {
   "cell_type": "code",
   "execution_count": 2,
   "id": "ed5c6182-c87e-4bdd-a3c5-479f8727e065",
   "metadata": {},
   "outputs": [
    {
     "data": {
      "text/plain": [
       "['t-shirt', 'mug', 'hat', 'book', 'keychain']"
      ]
     },
     "execution_count": 2,
     "metadata": {},
     "output_type": "execute_result"
    }
   ],
   "source": [
    "products = [\"t-shirt\", \"mug\", \"hat\", \"book\", \"keychain\"]\n",
    "products"
   ]
  },
  {
   "cell_type": "code",
   "execution_count": 4,
   "id": "83284b74-1b19-4dc3-a0ad-1ab9ddb96579",
   "metadata": {},
   "outputs": [],
   "source": [
    "inventory = {}"
   ]
  },
  {
   "cell_type": "code",
   "execution_count": 6,
   "id": "96f5425c-4947-48f3-9165-500a6aaca69a",
   "metadata": {},
   "outputs": [
    {
     "name": "stdin",
     "output_type": "stream",
     "text": [
      "enter the quantity of t-shirt 2\n",
      "enter the quantity of mug 3\n",
      "enter the quantity of hat 2\n",
      "enter the quantity of book 1\n",
      "enter the quantity of keychain 4\n"
     ]
    }
   ],
   "source": [
    "inventory[\"t-shirt\"] = int(input(\"enter the quantity of t-shirt\"))\n",
    "inventory[\"mug\"] = int(input(\"enter the quantity of mug\"))\n",
    "inventory[\"hat\"] = int(input(\"enter the quantity of hat\"))\n",
    "inventory[\"book\"] = int(input(\"enter the quantity of book\"))\n",
    "inventory[\"keychain\"] = int(input(\"enter the quantity of keychain\"))"
   ]
  },
  {
   "cell_type": "code",
   "execution_count": 8,
   "id": "77050e7a-0836-4b70-9b0f-f2ffd5d8da63",
   "metadata": {},
   "outputs": [],
   "source": [
    "customer_orders = set()"
   ]
  },
  {
   "cell_type": "code",
   "execution_count": 16,
   "id": "b821365a-db0d-4ccb-bb1d-d987082b45bd",
   "metadata": {},
   "outputs": [
    {
     "name": "stdin",
     "output_type": "stream",
     "text": [
      "Please enter the product you want to order hat\n",
      "Would you like to add another product(yes/no):  yes\n",
      "Please enter the product you want to order t-shirt\n",
      "Would you like to add another product(yes/no):  dfbdfhbs\n"
     ]
    },
    {
     "name": "stdout",
     "output_type": "stream",
     "text": [
      "Please enter only 'yes' or 'no' \n"
     ]
    },
    {
     "name": "stdin",
     "output_type": "stream",
     "text": [
      "Would you like to add another product(yes/no):  no\n"
     ]
    }
   ],
   "source": [
    "product_order = input(\"Please enter the product you want to order\")\n",
    "customer_orders.add(product_order)\n",
    "while True:\n",
    "    answer = input(\"Would you like to add another product(yes/no): \")\n",
    "    if answer == \"no\":\n",
    "        break\n",
    "        print(\"Thank you for your order\")\n",
    "    if answer == \"yes\":\n",
    "        product_order = input(\"Please enter the product you want to order\")\n",
    "        customer_orders.add(product_order)\n",
    "    else:\n",
    "        print(\"Please enter only 'yes' or 'no' \")\n",
    "    "
   ]
  },
  {
   "cell_type": "code",
   "execution_count": 18,
   "id": "03f76053-2308-4903-81e3-c974ae9ec763",
   "metadata": {},
   "outputs": [
    {
     "data": {
      "text/plain": [
       "{'book', 'hat', 't-shirt'}"
      ]
     },
     "execution_count": 18,
     "metadata": {},
     "output_type": "execute_result"
    }
   ],
   "source": [
    "customer_orders"
   ]
  },
  {
   "cell_type": "code",
   "execution_count": 26,
   "id": "e5946d16-b740-4117-9f62-095695eb3a49",
   "metadata": {},
   "outputs": [],
   "source": [
    "for keys in inventory:\n",
    "    if keys in customer_orders:\n",
    "        inventory[keys] -= 1"
   ]
  },
  {
   "cell_type": "code",
   "execution_count": 28,
   "id": "2aa5a0b4-7b0e-4399-b47d-7b0cf8380e98",
   "metadata": {},
   "outputs": [
    {
     "data": {
      "text/plain": [
       "{'t-shirt': 1, 'mug': 3, 'hat': 1, 'book': 0, 'keychain': 4}"
      ]
     },
     "execution_count": 28,
     "metadata": {},
     "output_type": "execute_result"
    }
   ],
   "source": [
    "inventory"
   ]
  }
 ],
 "metadata": {
  "kernelspec": {
   "display_name": "Python 3 (ipykernel)",
   "language": "python",
   "name": "python3"
  },
  "language_info": {
   "codemirror_mode": {
    "name": "ipython",
    "version": 3
   },
   "file_extension": ".py",
   "mimetype": "text/x-python",
   "name": "python",
   "nbconvert_exporter": "python",
   "pygments_lexer": "ipython3",
   "version": "3.11.7"
  }
 },
 "nbformat": 4,
 "nbformat_minor": 5
}
